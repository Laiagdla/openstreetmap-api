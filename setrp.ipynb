{
 "cells": [
  {
   "cell_type": "markdown",
   "metadata": {},
   "source": [
    "## setting up docker image dor openstreetmap api server"
   ]
  },
  {
   "cell_type": "markdown",
   "metadata": {},
   "source": [
    "# source\n",
    "https://download.geofabrik.de/europe/germany/berlin.html\n",
    "\n",
    "# donwload path\n",
    "https://download.geofabrik.de/europe/germany/berlin-latest.osm.pbf"
   ]
  },
  {
   "cell_type": "code",
   "execution_count": 2,
   "metadata": {},
   "outputs": [
    {
     "ename": "SyntaxError",
     "evalue": "invalid syntax (3954948368.py, line 1)",
     "output_type": "error",
     "traceback": [
      "\u001b[0;36m  Cell \u001b[0;32mIn [2], line 1\u001b[0;36m\u001b[0m\n\u001b[0;31m    docker run \\\u001b[0m\n\u001b[0m           ^\u001b[0m\n\u001b[0;31mSyntaxError\u001b[0m\u001b[0;31m:\u001b[0m invalid syntax\n"
     ]
    }
   ],
   "source": [
    "docker run \\\n",
    "    -e OVERPASS_META=yes \\\n",
    "    -e OVERPASS_MODE=init \\\n",
    "    -e OVERPASS_PLANET_URL=https://download.geofabrik.de/europe/germany/berlin-latest.osm.pbf \\\n",
    "    -e OVERPASS_RULES_LOAD=10 \\\n",
    "    -e OVERPASS_PLANET_PREPROCESS='mv /db/planet.osm.bz2 /db/planet.osm.pbf && osmium cat -o /db/planet.osm.bz2 /db/planet.osm.pbf && rm /db/planet.osm.pbf' \\\n",
    "    -e OVERPASS_COMPRESSION=gz \\\n",
    "    -v /big/docker/overpass_db/:/db \\\n",
    "    -p 12347:80 \\\n",
    "    -i -t \\\n",
    "    --name overpass_berlin wiktorn/overpass-api"
   ]
  },
  {
   "cell_type": "code",
   "execution_count": null,
   "metadata": {},
   "outputs": [],
   "source": []
  }
 ],
 "metadata": {
  "kernelspec": {
   "display_name": "lewagon",
   "language": "python",
   "name": "python3"
  },
  "language_info": {
   "codemirror_mode": {
    "name": "ipython",
    "version": 3
   },
   "file_extension": ".py",
   "mimetype": "text/x-python",
   "name": "python",
   "nbconvert_exporter": "python",
   "pygments_lexer": "ipython3",
   "version": "3.10.6"
  },
  "orig_nbformat": 4
 },
 "nbformat": 4,
 "nbformat_minor": 2
}
